import sqlite3

con = sqlite3.connect("task1.sqlite")
cur = con.cursor()

conn = sqlite3.connect('task1.sqlite')
cursor = con.cursor()

cursor.execute('''CREATE TABLE actors (
                id INTEGER PRIMARY KEY,
                name TEXT )
''')

cursor.execute('''CREATE TABLE movies (
                id INTEGER PRIMARY KEY,
                title TEXT )
''')

cursor.execute('''CREATE TABLE actor_movie (
               actor_id INTEGER,
               movie_id INTEGER,
               FOREIGN KEY (actor_id) REFERENCES actors(id),
               FOREIGN KEY (movie_id) REFERENCES movies(id) )
''')

conn.commit()

conn.close()

connect_netflix = sqlite3.connect('netflix.sqlite')
cursor_netflix = connect_netflix.cursor()

cursor_netflix.execute('select title, "cast" from netflix_titles')
data = cursor_netflix.fetchall()

connect_netflix.close()

data_new = []
unique_actors = set()
for row in data:
    movie, cast_str = row
    cast_str = cast_str.replace(' ,', ',').replace(', ', ',').replace('&', ',')
    cast = cast_str.split(',')
    unique_actors = unique_actors.union(set(cast))
    data_new.append((movie, cast))

connect_movies = sqlite3.connect('task1.sqlite')
cursor_movies = connect_movies.cursor()

for row in data_new:
    movie, actors = row
    cursor_movies.execute("INSERT INTO movies VALUES (NULL, ?)", (movie,))

connect_movies.commit()
connect_movies.close()

connect_actors = sqlite3.connect('task1.sqlite')
cursor_actors = connect_actors.cursor()

for actor in unique_actors:
    cursor_actors.execute("INSERT INTO actors VALUES (NULL, ?)", (actor,))

connect_actors.commit()
connect_actors.close()

connect_task1 = sqlite3.connect('task1.sqlite')
cursor = connect_task1.cursor()

for i in data_new:
    movie, actors = i

    cursor.execute('SELECT id FROM movies WHERE title = ?', (movie,))
    movie_id = cursor.fetchone()

    for actor in actors:
        cursor.execute('SELECT id FROM actors WHERE name = ?', (actor,))
        actor_id = cursor.fetchone()

        cursor.execute("INSERT INTO actor_movie (actor_id, movie_id) VALUES (?, ?)", (actor_id[0], movie_id[0]))

connect_task1.commit()
connect_task1.close()

con = sqlite3.connect('task1.sqlite')
cursor = con.cursor()

cursor.execute('''
    SELECT a1.name AS actor1_name, a2.name AS actor2_name, COUNT(*) AS movies_together
    FROM actor_movie am1
    JOIN actor_movie am2 ON am1.movie_id = am2.movie_id AND am1.actor_id < am2.actor_id
    JOIN actors a1 ON am1.actor_id = a1.id
    JOIN actors a2 ON am2.actor_id = a2.id
    GROUP BY actor1_name, actor2_name
    ORDER BY movies_together DESC
    LIMIT 1
''')

result = cursor.fetchone()
print(f"Самая часто работающая друг с другом пара актеров: {result[0]} и {result[1]}")
con.close
